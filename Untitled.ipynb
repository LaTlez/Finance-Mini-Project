{
 "cells": [
  {
   "cell_type": "code",
   "execution_count": 10,
   "id": "09f9762f",
   "metadata": {},
   "outputs": [],
   "source": []
  },
  {
   "cell_type": "code",
   "execution_count": 13,
   "id": "60ae9707",
   "metadata": {},
   "outputs": [
    {
     "name": "stdout",
     "output_type": "stream",
     "text": [
      "1\n"
     ]
    }
   ],
   "source": [
    "# From Example book\n",
    "n = 19138061\n",
    "B = 47\n",
    "a = 3\n",
    "print(gcd(a, n))"
   ]
  },
  {
   "cell_type": "code",
   "execution_count": 14,
   "id": "ea493a40",
   "metadata": {},
   "outputs": [
    {
     "data": {
      "text/plain": [
       "3613 * 5297"
      ]
     },
     "execution_count": 14,
     "metadata": {},
     "output_type": "execute_result"
    }
   ],
   "source": [
    "n.factor()"
   ]
  },
  {
   "cell_type": "code",
   "execution_count": 8,
   "id": "7ae956d1",
   "metadata": {},
   "outputs": [
    {
     "name": "stdout",
     "output_type": "stream",
     "text": [
      "prime less than or equal [2, 3, 5, 7, 11, 13, 17, 19, 23, 29, 31, 37, 41, 43, 47]\n"
     ]
    }
   ],
   "source": [
    "BB = prime_range(B + 1)\n",
    "print(\"prime less than or equal\", BB)"
   ]
  },
  {
   "cell_type": "code",
   "execution_count": 9,
   "id": "9809b5cd",
   "metadata": {},
   "outputs": [
    {
     "name": "stdout",
     "output_type": "stream",
     "text": [
      "q = 2  l = 24  a = 12857642\n",
      "q = 3  l = 15  a = 7773715\n",
      "q = 5  l = 10  a = 367110\n",
      "q = 7  l = 8  a = 3392506\n",
      "q = 11  l = 6  a = 14017215\n",
      "q = 13  l = 6  a = 114018\n",
      "q = 17  l = 5  a = 6720838\n",
      "q = 19  l = 5  a = 10617969\n",
      "q = 23  l = 5  a = 13434511\n",
      "q = 29  l = 4  a = 14138453\n",
      "q = 31  l = 4  a = 1514662\n",
      "q = 37  l = 4  a = 13999188\n",
      "q = 41  l = 4  a = 15641907\n",
      "q = 43  l = 4  a = 8414678\n",
      "q = 47  l = 4  a = 19130836\n",
      "p = 3613\n",
      "p - 1 = 2^2 * 3 * 7 * 43\n"
     ]
    }
   ],
   "source": [
    "for q in BB:\n",
    "    l = floor(log(n) / log(q))\n",
    "    a = power_mod(a, q^l, n)\n",
    "    print(\"q =\", q, \" l =\", l, \" a =\", a)\n",
    "\n",
    "g = gcd(a - 1, n)\n",
    "\n",
    "if g != 1:\n",
    "    p = g\n",
    "    print(\"p =\", p)\n",
    "    print(\"p - 1 =\", (p - 1).factor())"
   ]
  },
  {
   "cell_type": "code",
   "execution_count": 1,
   "id": "03c89177",
   "metadata": {},
   "outputs": [
    {
     "name": "stdout",
     "output_type": "stream",
     "text": [
      "1\n"
     ]
    }
   ],
   "source": [
    "# กำหนดค่า n และ B\n",
    "n = 77830086629  # ค่า n ที่กำหนดในโจทย์\n",
    "B = 211 # ค่า B ปรับเรียบที่เหมาะสม\n",
    "a = 3\n",
    "print(gcd(a, n))"
   ]
  },
  {
   "cell_type": "code",
   "execution_count": 2,
   "id": "bff48c6c",
   "metadata": {},
   "outputs": [
    {
     "data": {
      "text/plain": [
       "261641 * 297469"
      ]
     },
     "execution_count": 2,
     "metadata": {},
     "output_type": "execute_result"
    }
   ],
   "source": [
    "n.factor()"
   ]
  },
  {
   "cell_type": "code",
   "execution_count": 3,
   "id": "44bc6dd9",
   "metadata": {},
   "outputs": [
    {
     "name": "stdout",
     "output_type": "stream",
     "text": [
      "prime less than or equal [2, 3, 5, 7, 11, 13, 17, 19, 23, 29, 31, 37, 41, 43, 47, 53, 59, 61, 67, 71, 73, 79, 83, 89, 97, 101, 103, 107, 109, 113, 127, 131, 137, 139, 149, 151, 157, 163, 167, 173, 179, 181, 191, 193, 197, 199, 211]\n"
     ]
    }
   ],
   "source": [
    "BB = prime_range(B + 1)\n",
    "print(\"prime less than or equal\", BB)"
   ]
  },
  {
   "cell_type": "code",
   "execution_count": 5,
   "id": "a7ee8c64",
   "metadata": {},
   "outputs": [
    {
     "name": "stdout",
     "output_type": "stream",
     "text": [
      "q = 2  l = 36  a = 25784720551\n",
      "q = 3  l = 22  a = 57355631816\n",
      "q = 5  l = 15  a = 41901544510\n",
      "q = 7  l = 12  a = 9490765635\n",
      "q = 11  l = 10  a = 7460431475\n",
      "q = 13  l = 9  a = 37104095134\n",
      "q = 17  l = 8  a = 16684584930\n",
      "q = 19  l = 8  a = 24932555814\n",
      "q = 23  l = 7  a = 30263229548\n",
      "q = 29  l = 7  a = 45487334415\n",
      "q = 31  l = 7  a = 1740435933\n",
      "q = 37  l = 6  a = 25185039379\n",
      "q = 41  l = 6  a = 27148655084\n",
      "q = 43  l = 6  a = 62116189811\n",
      "q = 47  l = 6  a = 28477006441\n",
      "q = 53  l = 6  a = 30402945842\n",
      "q = 59  l = 6  a = 35165596965\n",
      "q = 61  l = 6  a = 2597833490\n",
      "q = 67  l = 5  a = 23273490233\n",
      "q = 71  l = 5  a = 6009893771\n",
      "q = 73  l = 5  a = 3046286164\n",
      "q = 79  l = 5  a = 527468257\n",
      "q = 83  l = 5  a = 13618675692\n",
      "q = 89  l = 5  a = 66807151300\n",
      "q = 97  l = 5  a = 71992090997\n",
      "q = 101  l = 5  a = 27887267627\n",
      "q = 103  l = 5  a = 66140490032\n",
      "q = 107  l = 5  a = 65437199024\n",
      "q = 109  l = 5  a = 69454958220\n",
      "q = 113  l = 5  a = 75958568557\n",
      "q = 127  l = 5  a = 10672859673\n",
      "q = 131  l = 5  a = 25892516643\n",
      "q = 137  l = 5  a = 2774964447\n",
      "q = 139  l = 5  a = 75427960609\n",
      "q = 149  l = 5  a = 62633715709\n",
      "q = 151  l = 4  a = 62995826853\n",
      "q = 157  l = 4  a = 52736098320\n",
      "q = 163  l = 4  a = 25829461162\n",
      "q = 167  l = 4  a = 62466527110\n",
      "q = 173  l = 4  a = 63337268358\n",
      "q = 179  l = 4  a = 42184116790\n",
      "q = 181  l = 4  a = 44019005123\n",
      "q = 191  l = 4  a = 36183118814\n",
      "q = 193  l = 4  a = 12978440165\n",
      "q = 197  l = 4  a = 47140905535\n",
      "q = 199  l = 4  a = 348244172\n",
      "q = 211  l = 4  a = 400834013\n",
      "p = 261641\n",
      "p - 1 = 2^3 * 5 * 31 * 211\n"
     ]
    }
   ],
   "source": [
    "for q in BB:\n",
    "    l = floor(log(n) / log(q))\n",
    "    a = power_mod(a, q^l, n)\n",
    "    print(\"q =\", q, \" l =\", l, \" a =\", a)\n",
    "\n",
    "g = gcd(a - 1, n)\n",
    "\n",
    "if g != 1:\n",
    "    p = g\n",
    "    print(\"p =\", p)\n",
    "    print(\"p - 1 =\", (p - 1).factor())"
   ]
  },
  {
   "cell_type": "code",
   "execution_count": null,
   "id": "3cad81c5",
   "metadata": {},
   "outputs": [],
   "source": []
  },
  {
   "cell_type": "code",
   "execution_count": null,
   "id": "d7913867",
   "metadata": {},
   "outputs": [],
   "source": []
  }
 ],
 "metadata": {
  "kernelspec": {
   "display_name": "SageMath 9.5",
   "language": "sage",
   "name": "sagemath"
  },
  "language_info": {
   "codemirror_mode": {
    "name": "ipython",
    "version": 3
   },
   "file_extension": ".py",
   "mimetype": "text/x-python",
   "name": "python",
   "nbconvert_exporter": "python",
   "pygments_lexer": "ipython3",
   "version": "3.10.12"
  }
 },
 "nbformat": 4,
 "nbformat_minor": 5
}
