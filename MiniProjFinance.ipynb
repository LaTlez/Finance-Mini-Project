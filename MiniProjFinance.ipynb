{
 "cells": [
  {
   "cell_type": "markdown",
   "metadata": {},
   "source": [
    "## Define the value of x₀, x₁, a and b that from related theory in Mini Project"
   ]
  },
  {
   "cell_type": "markdown",
   "metadata": {},
   "source": [
    "Define the value of x₀, x₁"
   ]
  },
  {
   "cell_type": "code",
   "execution_count": 2,
   "metadata": {},
   "outputs": [
    {
     "data": {
      "text/plain": [
       "7"
      ]
     },
     "execution_count": 2,
     "metadata": {},
     "output_type": "execute_result"
    }
   ],
   "source": [
    "student = [\"Thanathip Udomchetchamnong\" \"6430401997\"; \"Narawit Kaentao\" \"6430402016\";]\n",
    "\n",
    "# Choose last 2 digits from each student\n",
    "student₁ = parse(Int, SubString(student[1, 2], 9, 10)) #97\n",
    "student₂ = parse(Int, SubString(student[2, 2], 9, 10)) #16\n",
    "\n",
    "x₀ = (student₁ + student₂) % 100\n",
    "x₁ = 7"
   ]
  },
  {
   "cell_type": "markdown",
   "metadata": {},
   "source": [
    "Used the recursive function find_x(num) to find xᵢ , for i ∈ ℕ when ℕ = {1, 2, 3, ...}"
   ]
  },
  {
   "cell_type": "code",
   "execution_count": 3,
   "metadata": {},
   "outputs": [
    {
     "data": {
      "text/plain": [
       "find_x (generic function with 1 method)"
      ]
     },
     "execution_count": 3,
     "metadata": {},
     "output_type": "execute_result"
    }
   ],
   "source": [
    "function find_x(num)\n",
    "    if num == 0\n",
    "        return x₀\n",
    "\n",
    "    elseif num == 1\n",
    "        return x₁\n",
    "\n",
    "    else \n",
    "        xᵢ   = find_x(num - 1)\n",
    "        xᵢ₋₁ = find_x(num - 2)\n",
    "        xᵢ₊₁ = ((3 * xᵢ + 2 * xᵢ₋₁) % 19) + 2\n",
    "        return xᵢ₊₁\n",
    "    end\n",
    "end"
   ]
  },
  {
   "cell_type": "markdown",
   "metadata": {},
   "source": [
    "Define a, b"
   ]
  },
  {
   "cell_type": "code",
   "execution_count": 4,
   "metadata": {},
   "outputs": [
    {
     "data": {
      "text/plain": [
       "10"
      ]
     },
     "execution_count": 4,
     "metadata": {},
     "output_type": "execute_result"
    }
   ],
   "source": [
    "x₂ = find_x(2)\n",
    "a = x₂\n",
    "b = a - 1"
   ]
  },
  {
   "cell_type": "markdown",
   "metadata": {},
   "source": [
    "Show all of the variables that defined by using Latexify"
   ]
  },
  {
   "cell_type": "code",
   "execution_count": 5,
   "metadata": {
    "scrolled": true
   },
   "outputs": [
    {
     "data": {
      "text/latex": [
       "$x_0 = 13$"
      ],
      "text/plain": [
       "L\"$x_0 = 13$\""
      ]
     },
     "metadata": {},
     "output_type": "display_data"
    },
    {
     "data": {
      "text/latex": [
       "$x_1 = 7$"
      ],
      "text/plain": [
       "L\"$x_1 = 7$\""
      ]
     },
     "metadata": {},
     "output_type": "display_data"
    },
    {
     "data": {
      "text/latex": [
       "$x_2 = 11$"
      ],
      "text/plain": [
       "L\"$x_2 = 11$\""
      ]
     },
     "metadata": {},
     "output_type": "display_data"
    },
    {
     "data": {
      "text/latex": [
       "$a = 11$"
      ],
      "text/plain": [
       "L\"$a = 11$\""
      ]
     },
     "metadata": {},
     "output_type": "display_data"
    },
    {
     "data": {
      "text/latex": [
       "$b = 10$"
      ],
      "text/plain": [
       "L\"$b = 10$\""
      ]
     },
     "metadata": {},
     "output_type": "display_data"
    }
   ],
   "source": [
    "using Latexify\n",
    "\n",
    "# Create a vector of tuples to hold variable names and variable values\n",
    "\n",
    "variables = [(\"x₀\", x₀), (\"x₁\", x₁), (\"x₂\", x₂), (\"a\", a), (\"b\", b)]\n",
    "\n",
    "# Loop variables and display them using Latexify\n",
    "\n",
    "for (var_name, var_value) in variables \n",
    "    LS = \"$var_name = $var_value\"\n",
    "    latexify(LS) |> display \n",
    "end"
   ]
  },
  {
   "cell_type": "markdown",
   "metadata": {},
   "source": [
    "## Define stock and bonds at any time that based on Fundamental Theorem of Asset Pricing "
   ]
  },
  {
   "cell_type": "markdown",
   "metadata": {},
   "source": [
    "Given stock prices : A₀, A₁, A₂ by the problem"
   ]
  },
  {
   "cell_type": "code",
   "execution_count": 6,
   "metadata": {},
   "outputs": [
    {
     "data": {
      "text/latex": [
       "$A = \\left[\n",
       "\\begin{array}{ccc}\n",
       "111 & 121 & 132 \\\\\n",
       "\\end{array}\n",
       "\\right]$"
      ],
      "text/plain": [
       "L\"$A = \\left[\n",
       "\\begin{array}{ccc}\n",
       "111 & 121 & 132 \\\\\n",
       "\\end{array}\n",
       "\\right]$\""
      ]
     },
     "metadata": {},
     "output_type": "display_data"
    }
   ],
   "source": [
    "using Latexify\n",
    "\n",
    "A = [100 + a 110 + a 121 + a]\n",
    "\n",
    "LS = \"A = $A\"\n",
    "latexify(LS) |> display"
   ]
  },
  {
   "cell_type": "markdown",
   "metadata": {},
   "source": [
    "Given bond prices (S₀, S₁, S₂) in each scenario (ω₁, ω₂, ω₃, ω₄)"
   ]
  },
  {
   "cell_type": "code",
   "execution_count": 7,
   "metadata": {},
   "outputs": [
    {
     "data": {
      "text/latex": [
       "$S_0 = \\left[\n",
       "\\begin{array}{cccc}\n",
       "100 & 100 & 100 & 100 \\\\\n",
       "\\end{array}\n",
       "\\right]$"
      ],
      "text/plain": [
       "L\"$S_0 = \\left[\n",
       "\\begin{array}{cccc}\n",
       "100 & 100 & 100 & 100 \\\\\n",
       "\\end{array}\n",
       "\\right]$\""
      ]
     },
     "metadata": {},
     "output_type": "display_data"
    },
    {
     "data": {
      "text/latex": [
       "$S_1 = \\left[\n",
       "\\begin{array}{cccc}\n",
       "110 & 110 & 90 & 90 \\\\\n",
       "\\end{array}\n",
       "\\right]$"
      ],
      "text/plain": [
       "L\"$S_1 = \\left[\n",
       "\\begin{array}{cccc}\n",
       "110 & 110 & 90 & 90 \\\\\n",
       "\\end{array}\n",
       "\\right]$\""
      ]
     },
     "metadata": {},
     "output_type": "display_data"
    },
    {
     "data": {
      "text/latex": [
       "$S_2 = \\left[\n",
       "\\begin{array}{cccc}\n",
       "122 & 116 & 100 & 90 \\\\\n",
       "\\end{array}\n",
       "\\right]$"
      ],
      "text/plain": [
       "L\"$S_2 = \\left[\n",
       "\\begin{array}{cccc}\n",
       "122 & 116 & 100 & 90 \\\\\n",
       "\\end{array}\n",
       "\\right]$\""
      ]
     },
     "metadata": {},
     "output_type": "display_data"
    }
   ],
   "source": [
    "using Latexify\n",
    "\n",
    "S₀ = [90 + b 90 + b 90 + b 90 + b]\n",
    "S₁ = [100 + b 100 + b 80 + b 80 + b] \n",
    "S₂ = [112 + b 106 + b 90 + b 80 + b]\n",
    "\n",
    "bond = [(\"S₀\", S₀), (\"S₁\", S₁), (\"S₂\", S₂)]\n",
    "\n",
    "# Loop variables and display them using Latexify\n",
    "                \n",
    "for (var_name, var_value) in bond \n",
    "    LS = \"$var_name = $var_value\"\n",
    "    latexify(LS) |> display \n",
    "end"
   ]
  },
  {
   "cell_type": "markdown",
   "metadata": {},
   "source": [
    "Create Bond Prices follow by 4 Scenario in DataFrame and then export to CSV"
   ]
  },
  {
   "cell_type": "code",
   "execution_count": 8,
   "metadata": {},
   "outputs": [
    {
     "name": "stdout",
     "output_type": "stream",
     "text": [
      "\u001b[1m4×4 DataFrame\u001b[0m\n",
      "\u001b[1m Row \u001b[0m│\u001b[1m Scenario \u001b[0m\u001b[1m S₀    \u001b[0m\u001b[1m S₁    \u001b[0m\u001b[1m S₂    \u001b[0m\n",
      "     │\u001b[90m String   \u001b[0m\u001b[90m Int64 \u001b[0m\u001b[90m Int64 \u001b[0m\u001b[90m Int64 \u001b[0m\n",
      "─────┼───────────────────────────────\n",
      "   1 │ ω₁          100    110    122\n",
      "   2 │ ω₂          100    110    116\n",
      "   3 │ ω₃          100     90    100\n",
      "   4 │ ω₄          100     90     90"
     ]
    }
   ],
   "source": [
    "using DataFrames, CSV\n",
    "\n",
    "bond_prices = DataFrame(Scenario = [\"ω₁\", \"ω₂\", \"ω₃\", \"ω₄\"], \n",
    "                        S₀ = [90 + b, 90 + b, 90 + b, 90 + b], \n",
    "                        S₁ = [100 + b, 100 + b, 80 + b, 80 + b], \n",
    "                        S₂ = [112 + b, 106 + b, 90 + b, 80 + b]\n",
    "                        )\n",
    "\n",
    "CSV.write(\"Bond_Prices.csv\", bond_prices)\n",
    "\n",
    "print(bond_prices)"
   ]
  },
  {
   "cell_type": "markdown",
   "metadata": {},
   "source": [
    "## 1. Find the branching probrabilities (pₛ, qₛ, rₛ)"
   ]
  },
  {
   "cell_type": "code",
   "execution_count": 9,
   "metadata": {},
   "outputs": [
    {
     "data": {
      "text/latex": [
       "$p_s = \\frac{211}{222}$"
      ],
      "text/plain": [
       "L\"$p_s = \\frac{211}{222}$\""
      ]
     },
     "metadata": {},
     "output_type": "display_data"
    },
    {
     "data": {
      "text/latex": [
       "$q_s = \\frac{2}{3}$"
      ],
      "text/plain": [
       "L\"$q_s = \\frac{2}{3}$\""
      ]
     },
     "metadata": {},
     "output_type": "display_data"
    },
    {
     "data": {
      "text/latex": [
       "$r_s = \\frac{9}{11}$"
      ],
      "text/plain": [
       "L\"$r_s = \\frac{9}{11}$\""
      ]
     },
     "metadata": {},
     "output_type": "display_data"
    }
   ],
   "source": [
    "using SymPy\n",
    "\n",
    "pₛ, qₛ, rₛ = symbols(\"pₛ, qₛ, rₛ\") \n",
    "\n",
    "pₛ = solve((S₁[1] // A[2] * pₛ) + (S₁[3] // A[2] * (1 - pₛ)) - (S₀[1] // A[1]), pₛ)[1]\n",
    "qₛ = solve((S₂[1] // A[3] * qₛ) + (S₂[2] // A[3] * (1 - qₛ)) - (S₁[2] // A[2]), qₛ)[1]\n",
    "rₛ = solve((S₂[3] // A[3] * rₛ) + (S₂[4] // A[3] * (1 - rₛ)) - (S₁[4] // A[2]), rₛ)[1]\n",
    "\n",
    "branch_prob = [(\"pₛ\", pₛ), (\"qₛ\", qₛ), (\"rₛ\", rₛ)]\n",
    "for (var_name, var_value) in branch_prob \n",
    "    LS = \"$var_name = $var_value\"\n",
    "    latexify(LS) |> display \n",
    "end"
   ]
  },
  {
   "cell_type": "markdown",
   "metadata": {},
   "source": [
    "## 2. Find the risk-neural probrability for each scenario ( Pₛ(ω₁), Pₛ(ω₂), Pₛ(ω₃), Pₛ(ω₄) )"
   ]
  },
  {
   "cell_type": "code",
   "execution_count": 12,
   "metadata": {},
   "outputs": [
    {
     "data": {
      "text/latex": [
       "$P_s\\left( \\omega_1 \\right) = \\frac{211}{333} = 0.63363$"
      ],
      "text/plain": [
       "L\"$P_s\\left( \\omega_1 \\right) = \\frac{211}{333} = 0.63363$\""
      ]
     },
     "metadata": {},
     "output_type": "display_data"
    },
    {
     "data": {
      "text/latex": [
       "$P_s\\left( \\omega_2 \\right) = \\frac{211}{666} = 0.31682$"
      ],
      "text/plain": [
       "L\"$P_s\\left( \\omega_2 \\right) = \\frac{211}{666} = 0.31682$\""
      ]
     },
     "metadata": {},
     "output_type": "display_data"
    },
    {
     "data": {
      "text/latex": [
       "$P_s\\left( \\omega_3 \\right) = \\frac{3}{74} = 0.04054$"
      ],
      "text/plain": [
       "L\"$P_s\\left( \\omega_3 \\right) = \\frac{3}{74} = 0.04054$\""
      ]
     },
     "metadata": {},
     "output_type": "display_data"
    },
    {
     "data": {
      "text/latex": [
       "$P_s\\left( \\omega_4 \\right) = \\frac{1}{111} = 0.00901$"
      ],
      "text/plain": [
       "L\"$P_s\\left( \\omega_4 \\right) = \\frac{1}{111} = 0.00901$\""
      ]
     },
     "metadata": {},
     "output_type": "display_data"
    }
   ],
   "source": [
    "Pₛω₁ = pₛ * qₛ\n",
    "Pₛω₂ = pₛ * (1 - qₛ)\n",
    "Pₛω₃ = (1 - pₛ) * rₛ\n",
    "Pₛω₄ = (1 - pₛ) * (1 - rₛ)\n",
    "\n",
    "risk_neural_prob = [(\"Pₛ(ω₁)\", Pₛω₁, round(Pₛω₁, digits = 5)), \n",
    "                    (\"Pₛ(ω₂)\", Pₛω₂, round(Pₛω₂, digits = 5)), \n",
    "                    (\"Pₛ(ω₃)\", Pₛω₃, round(Pₛω₃, digits = 5)), \n",
    "                    (\"Pₛ(ω₄)\", Pₛω₄, round(Pₛω₄, digits = 5))]\n",
    "for (var_name, value_fraction, value_decimal) in risk_neural_prob \n",
    "    LS = \"$var_name = $value_fraction = $value_decimal\"\n",
    "    latexify(LS) |> display \n",
    "end"
   ]
  }
 ],
 "metadata": {
  "kernelspec": {
   "display_name": "Julia 1.9.3",
   "language": "julia",
   "name": "julia-1.9"
  },
  "language_info": {
   "file_extension": ".jl",
   "mimetype": "application/julia",
   "name": "julia",
   "version": "1.9.3"
  }
 },
 "nbformat": 4,
 "nbformat_minor": 4
}
